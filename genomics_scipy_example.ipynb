{
 "cells": [
  {
   "cell_type": "markdown",
   "metadata": {},
   "source": [
    "## Work in progress notebook reproducing the work from: https://www.toptal.com/python/comprehensive-introduction-your-genome-scipy\n",
    "## and then extending the suggested questions at the end of the post"
   ]
  },
  {
   "cell_type": "code",
   "execution_count": 3,
   "metadata": {
    "collapsed": true
   },
   "outputs": [],
   "source": [
    "import pandas as pd"
   ]
  },
  {
   "cell_type": "code",
   "execution_count": 4,
   "metadata": {
    "collapsed": false
   },
   "outputs": [
    {
     "data": {
      "text/plain": [
       "'0.19.1'"
      ]
     },
     "execution_count": 4,
     "metadata": {},
     "output_type": "execute_result"
    }
   ],
   "source": [
    "pd.__version__"
   ]
  },
  {
   "cell_type": "markdown",
   "metadata": {},
   "source": [
    "Download the human genome annotation file in GFF3 format."
   ]
  },
  {
   "cell_type": "code",
   "execution_count": 1,
   "metadata": {
    "collapsed": false
   },
   "outputs": [
    {
     "name": "stdout",
     "output_type": "stream",
     "text": [
      "--2017-01-16 14:28:59--  ftp://ftp.ensembl.org/pub/release-85/gff3/homo_sapiens/Homo_sapiens.GRCh38.85.gff3.gz\n",
      "           => 'Homo_sapiens.GRCh38.85.gff3.gz'\n",
      "Resolving ftp.ensembl.org... 193.62.203.85\n",
      "Connecting to ftp.ensembl.org|193.62.203.85|:21... connected.\n",
      "Logging in as anonymous ... Logged in!\n",
      "==> SYST ... done.    ==> PWD ... done.\n",
      "==> TYPE I ... done.  ==> CWD (1) /pub/release-85/gff3/homo_sapiens ... done.\n",
      "==> SIZE Homo_sapiens.GRCh38.85.gff3.gz ... 38469475\n",
      "==> PASV ... done.    ==> RETR Homo_sapiens.GRCh38.85.gff3.gz ... done.\n",
      "Length: 38469475 (37M) (unauthoritative)\n",
      "\n",
      "Homo_sapiens.GRCh38 100%[===================>]  36.69M  2.42MB/s    in 13s     \n",
      "\n",
      "2017-01-16 14:29:13 (2.78 MB/s) - 'Homo_sapiens.GRCh38.85.gff3.gz' saved [38469475]\n",
      "\n"
     ]
    }
   ],
   "source": [
    "!wget ftp://ftp.ensembl.org/pub/release-85/gff3/homo_sapiens/Homo_sapiens.GRCh38.85.gff3.gz"
   ]
  },
  {
   "cell_type": "markdown",
   "metadata": {},
   "source": [
    "It is about 37 MB, a very small file compared to the information content of a human genome, which is about 3 GB in plain text. That’s because the GFF3 file only contains the annotation of the sequences, while the sequence data is usually stored in another file format called FASTA."
   ]
  },
  {
   "cell_type": "code",
   "execution_count": 6,
   "metadata": {
    "collapsed": true
   },
   "outputs": [],
   "source": [
    "columnNames = ['seqid', 'source', 'type', 'start', 'end', 'score', 'strand', 'phase', 'attributes']"
   ]
  },
  {
   "cell_type": "code",
   "execution_count": 7,
   "metadata": {
    "collapsed": true
   },
   "outputs": [],
   "source": [
    "df = pd.read_csv(\n",
    "    'Homo_sapiens.GRCh38.85.gff3.gz',\n",
    "    compression='gzip',\n",
    "    sep='\\t', \n",
    "    comment='#', \n",
    "    low_memory=False,\n",
    "    header=None, \n",
    "    names=columnNames\n",
    ")"
   ]
  },
  {
   "cell_type": "code",
   "execution_count": 8,
   "metadata": {
    "collapsed": false
   },
   "outputs": [
    {
     "data": {
      "text/html": [
       "<div>\n",
       "<table border=\"1\" class=\"dataframe\">\n",
       "  <thead>\n",
       "    <tr style=\"text-align: right;\">\n",
       "      <th></th>\n",
       "      <th>seqid</th>\n",
       "      <th>source</th>\n",
       "      <th>type</th>\n",
       "      <th>start</th>\n",
       "      <th>end</th>\n",
       "      <th>score</th>\n",
       "      <th>strand</th>\n",
       "      <th>phase</th>\n",
       "      <th>attributes</th>\n",
       "    </tr>\n",
       "  </thead>\n",
       "  <tbody>\n",
       "    <tr>\n",
       "      <th>0</th>\n",
       "      <td>1</td>\n",
       "      <td>GRCh38</td>\n",
       "      <td>chromosome</td>\n",
       "      <td>1</td>\n",
       "      <td>248956422</td>\n",
       "      <td>.</td>\n",
       "      <td>.</td>\n",
       "      <td>.</td>\n",
       "      <td>ID=chromosome:1;Alias=CM000663.2,chr1,NC_00000...</td>\n",
       "    </tr>\n",
       "    <tr>\n",
       "      <th>1</th>\n",
       "      <td>1</td>\n",
       "      <td>.</td>\n",
       "      <td>biological_region</td>\n",
       "      <td>10469</td>\n",
       "      <td>11240</td>\n",
       "      <td>1.3e+03</td>\n",
       "      <td>.</td>\n",
       "      <td>.</td>\n",
       "      <td>external_name=oe %3D 0.79;logic_name=cpg</td>\n",
       "    </tr>\n",
       "    <tr>\n",
       "      <th>2</th>\n",
       "      <td>1</td>\n",
       "      <td>.</td>\n",
       "      <td>biological_region</td>\n",
       "      <td>10650</td>\n",
       "      <td>10657</td>\n",
       "      <td>0.999</td>\n",
       "      <td>+</td>\n",
       "      <td>.</td>\n",
       "      <td>logic_name=eponine</td>\n",
       "    </tr>\n",
       "    <tr>\n",
       "      <th>3</th>\n",
       "      <td>1</td>\n",
       "      <td>.</td>\n",
       "      <td>biological_region</td>\n",
       "      <td>10655</td>\n",
       "      <td>10657</td>\n",
       "      <td>0.999</td>\n",
       "      <td>-</td>\n",
       "      <td>.</td>\n",
       "      <td>logic_name=eponine</td>\n",
       "    </tr>\n",
       "    <tr>\n",
       "      <th>4</th>\n",
       "      <td>1</td>\n",
       "      <td>.</td>\n",
       "      <td>biological_region</td>\n",
       "      <td>10678</td>\n",
       "      <td>10687</td>\n",
       "      <td>0.999</td>\n",
       "      <td>+</td>\n",
       "      <td>.</td>\n",
       "      <td>logic_name=eponine</td>\n",
       "    </tr>\n",
       "  </tbody>\n",
       "</table>\n",
       "</div>"
      ],
      "text/plain": [
       "  seqid  source               type  start        end    score strand phase  \\\n",
       "0     1  GRCh38         chromosome      1  248956422        .      .     .   \n",
       "1     1       .  biological_region  10469      11240  1.3e+03      .     .   \n",
       "2     1       .  biological_region  10650      10657    0.999      +     .   \n",
       "3     1       .  biological_region  10655      10657    0.999      -     .   \n",
       "4     1       .  biological_region  10678      10687    0.999      +     .   \n",
       "\n",
       "                                          attributes  \n",
       "0  ID=chromosome:1;Alias=CM000663.2,chr1,NC_00000...  \n",
       "1           external_name=oe %3D 0.79;logic_name=cpg  \n",
       "2                                 logic_name=eponine  \n",
       "3                                 logic_name=eponine  \n",
       "4                                 logic_name=eponine  "
      ]
     },
     "execution_count": 8,
     "metadata": {},
     "output_type": "execute_result"
    }
   ],
   "source": [
    "df.head()"
   ]
  },
  {
   "cell_type": "code",
   "execution_count": 10,
   "metadata": {
    "collapsed": false
   },
   "outputs": [
    {
     "name": "stdout",
     "output_type": "stream",
     "text": [
      "<class 'pandas.core.frame.DataFrame'>\n",
      "RangeIndex: 2601849 entries, 0 to 2601848\n",
      "Data columns (total 9 columns):\n",
      "seqid         object\n",
      "source        object\n",
      "type          object\n",
      "start         int64\n",
      "end           int64\n",
      "score         object\n",
      "strand        object\n",
      "phase         object\n",
      "attributes    object\n",
      "dtypes: int64(2), object(7)\n",
      "memory usage: 178.7+ MB\n"
     ]
    }
   ],
   "source": [
    "df.info()"
   ]
  },
  {
   "cell_type": "code",
   "execution_count": 11,
   "metadata": {
    "collapsed": false
   },
   "outputs": [
    {
     "data": {
      "text/plain": [
       "array(['1', '10', '11', '12', '13', '14', '15', '16', '17', '18', '19',\n",
       "       '2', '20', '21', '22', '3', '4', '5', '6', '7', '8', '9',\n",
       "       'GL000008.2', 'GL000009.2', 'GL000194.1', 'GL000195.1',\n",
       "       'GL000205.2', 'GL000208.1', 'GL000213.1', 'GL000214.1',\n",
       "       'GL000216.2', 'GL000218.1', 'GL000219.1', 'GL000220.1',\n",
       "       'GL000221.1', 'GL000224.1', 'GL000225.1', 'GL000226.1',\n",
       "       'KI270302.1', 'KI270303.1', 'KI270304.1', 'KI270305.1',\n",
       "       'KI270310.1', 'KI270311.1', 'KI270312.1', 'KI270315.1',\n",
       "       'KI270316.1', 'KI270317.1', 'KI270320.1', 'KI270322.1',\n",
       "       'KI270329.1', 'KI270330.1', 'KI270333.1', 'KI270334.1',\n",
       "       'KI270335.1', 'KI270336.1', 'KI270337.1', 'KI270338.1',\n",
       "       'KI270340.1', 'KI270362.1', 'KI270363.1', 'KI270364.1',\n",
       "       'KI270366.1', 'KI270371.1', 'KI270372.1', 'KI270373.1',\n",
       "       'KI270374.1', 'KI270375.1', 'KI270376.1', 'KI270378.1',\n",
       "       'KI270379.1', 'KI270381.1', 'KI270382.1', 'KI270383.1',\n",
       "       'KI270384.1', 'KI270385.1', 'KI270386.1', 'KI270387.1',\n",
       "       'KI270388.1', 'KI270389.1', 'KI270390.1', 'KI270391.1',\n",
       "       'KI270392.1', 'KI270393.1', 'KI270394.1', 'KI270395.1',\n",
       "       'KI270396.1', 'KI270411.1', 'KI270412.1', 'KI270414.1',\n",
       "       'KI270417.1', 'KI270418.1', 'KI270419.1', 'KI270420.1',\n",
       "       'KI270422.1', 'KI270423.1', 'KI270424.1', 'KI270425.1',\n",
       "       'KI270429.1', 'KI270435.1', 'KI270438.1', 'KI270442.1',\n",
       "       'KI270448.1', 'KI270465.1', 'KI270466.1', 'KI270467.1',\n",
       "       'KI270468.1', 'KI270507.1', 'KI270508.1', 'KI270509.1',\n",
       "       'KI270510.1', 'KI270511.1', 'KI270512.1', 'KI270515.1',\n",
       "       'KI270516.1', 'KI270517.1', 'KI270518.1', 'KI270519.1',\n",
       "       'KI270521.1', 'KI270522.1', 'KI270528.1', 'KI270529.1',\n",
       "       'KI270530.1', 'KI270538.1', 'KI270539.1', 'KI270544.1',\n",
       "       'KI270548.1', 'KI270579.1', 'KI270580.1', 'KI270581.1',\n",
       "       'KI270582.1', 'KI270583.1', 'KI270584.1', 'KI270587.1',\n",
       "       'KI270588.1', 'KI270589.1', 'KI270590.1', 'KI270591.1',\n",
       "       'KI270593.1', 'KI270706.1', 'KI270707.1', 'KI270708.1',\n",
       "       'KI270709.1', 'KI270710.1', 'KI270711.1', 'KI270712.1',\n",
       "       'KI270713.1', 'KI270714.1', 'KI270715.1', 'KI270716.1',\n",
       "       'KI270717.1', 'KI270718.1', 'KI270719.1', 'KI270720.1',\n",
       "       'KI270721.1', 'KI270722.1', 'KI270723.1', 'KI270724.1',\n",
       "       'KI270725.1', 'KI270726.1', 'KI270727.1', 'KI270728.1',\n",
       "       'KI270729.1', 'KI270730.1', 'KI270731.1', 'KI270732.1',\n",
       "       'KI270733.1', 'KI270734.1', 'KI270735.1', 'KI270736.1',\n",
       "       'KI270737.1', 'KI270738.1', 'KI270739.1', 'KI270740.1',\n",
       "       'KI270741.1', 'KI270742.1', 'KI270743.1', 'KI270744.1',\n",
       "       'KI270745.1', 'KI270746.1', 'KI270747.1', 'KI270748.1',\n",
       "       'KI270749.1', 'KI270750.1', 'KI270751.1', 'KI270752.1',\n",
       "       'KI270753.1', 'KI270754.1', 'KI270755.1', 'KI270756.1',\n",
       "       'KI270757.1', 'MT', 'X', 'Y'], dtype=object)"
      ]
     },
     "execution_count": 11,
     "metadata": {},
     "output_type": "execute_result"
    }
   ],
   "source": [
    "df.seqid.unique()"
   ]
  },
  {
   "cell_type": "markdown",
   "metadata": {},
   "source": [
    "The seqids starting with KI and GL are DNA sequences – or scaffolds – in the genome that have not been successfully assembled into the chromosomes.\n",
    "\n",
    "Although the first human genome draft came out more than 15 years ago, the current human genome is still incomplete. The difficulty in assembling these sequences is largely due to complex repetitive regions in the genome."
   ]
  },
  {
   "cell_type": "code",
   "execution_count": 12,
   "metadata": {
    "collapsed": false
   },
   "outputs": [
    {
     "data": {
      "text/plain": [
       "havana            1441093\n",
       "ensembl_havana     745065\n",
       "ensembl            228212\n",
       ".                  182510\n",
       "mirbase              4701\n",
       "GRCh38                194\n",
       "insdc                  74\n",
       "Name: source, dtype: int64"
      ]
     },
     "execution_count": 12,
     "metadata": {},
     "output_type": "execute_result"
    }
   ],
   "source": [
    "df.source.value_counts()"
   ]
  },
  {
   "cell_type": "markdown",
   "metadata": {},
   "source": [
    "### How Much of the Genome Is Incomplete?"
   ]
  },
  {
   "cell_type": "code",
   "execution_count": 13,
   "metadata": {
    "collapsed": true
   },
   "outputs": [],
   "source": [
    "gdf = df[df.source == 'GRCh38']"
   ]
  },
  {
   "cell_type": "code",
   "execution_count": 20,
   "metadata": {
    "collapsed": false
   },
   "outputs": [
    {
     "data": {
      "text/plain": [
       "(194,)"
      ]
     },
     "execution_count": 20,
     "metadata": {},
     "output_type": "execute_result"
    }
   ],
   "source": [
    "gdf.seqid.unique().shape"
   ]
  },
  {
   "cell_type": "markdown",
   "metadata": {},
   "source": [
    "### In summary\n",
    "\n",
    "1. About 0.37% of the human genome is still incomplete even though the first draft came out over 15 years ago.\n",
    "2. There are about 42,000 genes in the human genome based on this particular GFF3 file we used.\n",
    "3. The length of a gene can range from a few dozen to over two million bases.\n",
    "4. Genes are not evenly distributed among the chromosomes. Overall, the larger the chromosome, the more genes it hosts, but for a subset of the chromosomes, the correlation can be negative.\n",
    "5. The GFF3 file is very rich in annotation information, and we have just scratched the surface. If you are interested in further exploration, here are a few questions you can play with:"
   ]
  },
  {
   "cell_type": "markdown",
   "metadata": {},
   "source": [
    "### Next Questions"
   ]
  },
  {
   "cell_type": "markdown",
   "metadata": {},
   "source": [
    "1. How many transcripts does a gene typically have ? \n",
    "2. What percentage of genes have more than 1 transcript ?\n",
    "3. How many isoforms does a transcript typically have ?\n",
    "4. How many exons, CDS, and UTRs does a transcript typically have? What sizes are they ?\n",
    "5. Is it possible to categorize the genes based on their function as described in the description column ?"
   ]
  },
  {
   "cell_type": "markdown",
   "metadata": {},
   "source": [
    "How many transcripts does a gene typically have ?"
   ]
  },
  {
   "cell_type": "code",
   "execution_count": null,
   "metadata": {
    "collapsed": true
   },
   "outputs": [],
   "source": []
  },
  {
   "cell_type": "markdown",
   "metadata": {},
   "source": [
    "What percentage of genes have more than 1 transcript ?"
   ]
  },
  {
   "cell_type": "code",
   "execution_count": null,
   "metadata": {
    "collapsed": true
   },
   "outputs": [],
   "source": []
  },
  {
   "cell_type": "markdown",
   "metadata": {},
   "source": [
    "How many isoforms does a transcript typically have ?"
   ]
  },
  {
   "cell_type": "markdown",
   "metadata": {},
   "source": []
  },
  {
   "cell_type": "markdown",
   "metadata": {},
   "source": [
    "How many exons, CDS, and UTRs does a transcript typically have? What sizes are they ?"
   ]
  },
  {
   "cell_type": "code",
   "execution_count": null,
   "metadata": {
    "collapsed": true
   },
   "outputs": [],
   "source": []
  },
  {
   "cell_type": "markdown",
   "metadata": {},
   "source": [
    "Is it possible to categorize the genes based on their function as described in the description column ?"
   ]
  },
  {
   "cell_type": "code",
   "execution_count": null,
   "metadata": {
    "collapsed": true
   },
   "outputs": [],
   "source": []
  }
 ],
 "metadata": {
  "kernelspec": {
   "display_name": "Python 3",
   "language": "python",
   "name": "python3"
  },
  "language_info": {
   "codemirror_mode": {
    "name": "ipython",
    "version": 3
   },
   "file_extension": ".py",
   "mimetype": "text/x-python",
   "name": "python",
   "nbconvert_exporter": "python",
   "pygments_lexer": "ipython3",
   "version": "3.5.1"
  }
 },
 "nbformat": 4,
 "nbformat_minor": 2
}
